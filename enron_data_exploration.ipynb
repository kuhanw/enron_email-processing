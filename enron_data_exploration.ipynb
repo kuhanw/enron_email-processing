{
 "cells": [
  {
   "cell_type": "code",
   "execution_count": 1,
   "metadata": {
    "collapsed": true
   },
   "outputs": [],
   "source": [
    "import os\n",
    "import pandas as pd\n",
    "\n",
    "from joblib import Parallel, delayed"
   ]
  },
  {
   "cell_type": "code",
   "execution_count": 2,
   "metadata": {
    "collapsed": true
   },
   "outputs": [],
   "source": [
    "list_of_users = os.listdir(r'd:\\datasets\\maildir')"
   ]
  },
  {
   "cell_type": "code",
   "execution_count": 5,
   "metadata": {
    "collapsed": true
   },
   "outputs": [],
   "source": [
    "def grabDoc(path, folder, user):\n",
    "    f = open(path, 'r')\n",
    "    msg = f.readlines()\n",
    "    \n",
    "    if len(msg)<6: \n",
    "        return None\n",
    "    \n",
    "    else:\n",
    "        \n",
    "        line_0 = msg[0]\n",
    "        line_1 = msg[1]    \n",
    "        line_2 = msg[2]\n",
    "        line_3 = msg[3]\n",
    "        line_4 = msg[4]\n",
    "        line_5 = msg[5:]\n",
    "\n",
    "        df_doc = pd.DataFrame([[line_0, line_1, line_2, line_3, line_4, line_5]])\n",
    "\n",
    "        df_doc['user'] = user\n",
    "        df_doc['folder'] = folder\n",
    "\n",
    "        return df_doc"
   ]
  },
  {
   "cell_type": "code",
   "execution_count": 16,
   "metadata": {
    "collapsed": true
   },
   "outputs": [],
   "source": [
    "def grabDocsUser(user):\n",
    "    \n",
    "    path = r'd:\\datasets\\maildir\\\\' + user \n",
    "    \n",
    "    all_folders = os.listdir(path)\n",
    "    \n",
    "    docs = [os.listdir(path + '\\\\' + folder) for folder in all_folders]\n",
    "    \n",
    "    all_docs = pd.concat([\n",
    "        pd.concat([grabDoc(path + '\\\\' + all_folders[i]  + '\\\\' + doc, all_folders[i], user) for doc in docs[i]]) \n",
    "                for i in range(len(all_folders))\n",
    "                ])\n",
    "    \n",
    "    return all_docs"
   ]
  },
  {
   "cell_type": "code",
   "execution_count": null,
   "metadata": {},
   "outputs": [],
   "source": [
    "all_user_results = Parallel(n_jobs=-1, verbose=8)(delayed(grabDocsUser)(user) for user in list_of_users)"
   ]
  }
 ],
 "metadata": {
  "kernelspec": {
   "display_name": "Python 3",
   "language": "python",
   "name": "python3"
  },
  "language_info": {
   "codemirror_mode": {
    "name": "ipython",
    "version": 3
   },
   "file_extension": ".py",
   "mimetype": "text/x-python",
   "name": "python",
   "nbconvert_exporter": "python",
   "pygments_lexer": "ipython3",
   "version": "3.6.1"
  }
 },
 "nbformat": 4,
 "nbformat_minor": 2
}
