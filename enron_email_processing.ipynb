{
 "cells": [
  {
   "cell_type": "code",
   "execution_count": 26,
   "metadata": {
    "collapsed": true
   },
   "outputs": [],
   "source": [
    "import pandas as pd\n",
    "import seaborn as sns\n",
    "import matplotlib.pyplot as plt\n",
    "import difflib\n",
    "import numpy as np\n",
    "from joblib import Parallel, delayed"
   ]
  },
  {
   "cell_type": "code",
   "execution_count": 111,
   "metadata": {
    "collapsed": true
   },
   "outputs": [],
   "source": [
    "df = pd.read_csv('all_results.csv')"
   ]
  },
  {
   "cell_type": "code",
   "execution_count": 112,
   "metadata": {},
   "outputs": [
    {
     "data": {
      "text/plain": [
       "(517401, 7)"
      ]
     },
     "execution_count": 112,
     "metadata": {},
     "output_type": "execute_result"
    }
   ],
   "source": [
    "df.shape"
   ]
  },
  {
   "cell_type": "code",
   "execution_count": 113,
   "metadata": {
    "collapsed": true
   },
   "outputs": [],
   "source": [
    "df.rename(columns={'0':'MessageID', '1':'DateTime', '2':'From', '3':'To', '4':'Subject', '5':'Body'}, inplace=True)"
   ]
  },
  {
   "cell_type": "code",
   "execution_count": 114,
   "metadata": {
    "collapsed": true
   },
   "outputs": [],
   "source": [
    "df['DateTime'] = df['DateTime'].apply(lambda x: x[5:-1])"
   ]
  },
  {
   "cell_type": "code",
   "execution_count": 115,
   "metadata": {
    "collapsed": true
   },
   "outputs": [],
   "source": [
    "df['From'] = df['From'].apply(lambda x: x.split(':')[1:][0][:-1])\n",
    "df['To'] = df['To'].apply(lambda x: x.split(':')[1:][0][:-1])"
   ]
  },
  {
   "cell_type": "code",
   "execution_count": null,
   "metadata": {
    "collapsed": true
   },
   "outputs": [],
   "source": [
    "df['MessageID'] = df['MessageID'].apply(lambda x: x.split(':')[1:][0][:-1])"
   ]
  },
  {
   "cell_type": "code",
   "execution_count": 124,
   "metadata": {
    "collapsed": true
   },
   "outputs": [],
   "source": [
    "df['Subject'] = df['Subject'].apply(lambda x: x[9:-1])"
   ]
  },
  {
   "cell_type": "code",
   "execution_count": 125,
   "metadata": {
    "collapsed": true
   },
   "outputs": [],
   "source": [
    "df['AccountName'] = df['path'].apply(lambda x: x.split('\\\\')[4])\n",
    "df['Folder'] = df['path'].apply(lambda x: x.split('\\\\')[5])"
   ]
  },
  {
   "cell_type": "code",
   "execution_count": 126,
   "metadata": {
    "collapsed": true
   },
   "outputs": [],
   "source": [
    "df.to_csv('all_results_process_stage_1.csv', index=False, encoding='utf-8')"
   ]
  },
  {
   "cell_type": "code",
   "execution_count": null,
   "metadata": {
    "collapsed": true
   },
   "outputs": [],
   "source": [
    "#Stage 1 processing"
   ]
  },
  {
   "cell_type": "code",
   "execution_count": 149,
   "metadata": {
    "collapsed": true
   },
   "outputs": [],
   "source": [
    "df = pd.read_csv('all_results_process_stage_1.csv', encoding='utf-8')"
   ]
  },
  {
   "cell_type": "code",
   "execution_count": 150,
   "metadata": {},
   "outputs": [],
   "source": [
    "df = df[df['Subject'].isnull() == False]"
   ]
  },
  {
   "cell_type": "code",
   "execution_count": 5,
   "metadata": {
    "collapsed": true
   },
   "outputs": [],
   "source": [
    "junk_folders = ['discussion_threads', 'sent_mail', 'all_documents', 'deleted_items']"
   ]
  },
  {
   "cell_type": "code",
   "execution_count": 6,
   "metadata": {},
   "outputs": [],
   "source": [
    "df_restricted = df[(df['Folder'].isin(junk_folders) == False)]"
   ]
  },
  {
   "cell_type": "code",
   "execution_count": null,
   "metadata": {
    "collapsed": true
   },
   "outputs": [],
   "source": [
    "###########Stage 1A finished"
   ]
  },
  {
   "cell_type": "code",
   "execution_count": 8,
   "metadata": {
    "collapsed": true
   },
   "outputs": [],
   "source": [
    "df_restricted.to_csv('all_results_process_stage_1a.csv', index=False, encoding='utf-8')"
   ]
  },
  {
   "cell_type": "code",
   "execution_count": 17,
   "metadata": {},
   "outputs": [],
   "source": [
    "df_restricted = pd.read_csv('all_results_process_stage_1a.csv', encoding='utf-8')"
   ]
  },
  {
   "cell_type": "code",
   "execution_count": 177,
   "metadata": {},
   "outputs": [],
   "source": [
    "#Dedupe\n",
    "df_restricted = df_restricted[df_restricted.duplicated(subset=['DateTime', 'From', 'To', 'Subject']) == False]"
   ]
  },
  {
   "cell_type": "code",
   "execution_count": 166,
   "metadata": {},
   "outputs": [],
   "source": [
    "reply_subjects = df_restricted[(df_restricted['Subject'].str.contains('RE:')) | \\\n",
    "              (df_restricted['Subject'].str.contains('Re:')) | \\\n",
    "              (df_restricted['Subject'].str.contains('re:'))]['Subject'].values\n",
    "\n",
    "fwd_subjects = df_restricted[(df_restricted['Subject'].str.contains('FW:')) | \\\n",
    "              (df_restricted['Subject'].str.contains('Fw:')) | \\\n",
    "              (df_restricted['Subject'].str.contains('fw:'))]['Subject'].values"
   ]
  },
  {
   "cell_type": "code",
   "execution_count": 167,
   "metadata": {},
   "outputs": [],
   "source": [
    "thread_names = list(reply_subjects) + list(fwd_subjects)"
   ]
  },
  {
   "cell_type": "code",
   "execution_count": 168,
   "metadata": {
    "collapsed": true
   },
   "outputs": [],
   "source": [
    "other_subjects = df_restricted[df_restricted['Subject'].isin(thread_names) == False]"
   ]
  },
  {
   "cell_type": "code",
   "execution_count": 170,
   "metadata": {},
   "outputs": [
    {
     "data": {
      "text/plain": [
       "['RE: Stagecoach', 'RE: stage coach', 'Re: Stagecoach', 'Re: stage coach']"
      ]
     },
     "execution_count": 170,
     "metadata": {},
     "output_type": "execute_result"
    }
   ],
   "source": [
    "[subject for subject in all_subjects if difflib.SequenceMatcher(None, a=subject, b=reply_subjects[10]).ratio()>0.8]        "
   ]
  },
  {
   "cell_type": "code",
   "execution_count": 151,
   "metadata": {},
   "outputs": [
    {
     "data": {
      "text/html": [
       "<div>\n",
       "<style>\n",
       "    .dataframe thead tr:only-child th {\n",
       "        text-align: right;\n",
       "    }\n",
       "\n",
       "    .dataframe thead th {\n",
       "        text-align: left;\n",
       "    }\n",
       "\n",
       "    .dataframe tbody tr th {\n",
       "        vertical-align: top;\n",
       "    }\n",
       "</style>\n",
       "<table border=\"1\" class=\"dataframe\">\n",
       "  <thead>\n",
       "    <tr style=\"text-align: right;\">\n",
       "      <th></th>\n",
       "      <th>MessageID</th>\n",
       "      <th>DateTime</th>\n",
       "      <th>From</th>\n",
       "      <th>To</th>\n",
       "      <th>Subject</th>\n",
       "      <th>Body</th>\n",
       "      <th>path</th>\n",
       "      <th>AccountName</th>\n",
       "      <th>Folder</th>\n",
       "    </tr>\n",
       "  </thead>\n",
       "  <tbody>\n",
       "    <tr>\n",
       "      <th>0</th>\n",
       "      <td>Message-ID: &lt;29790972.1075855665306.JavaMail.e...</td>\n",
       "      <td>Wed, 13 Dec 2000 18:41:00 -0800 (PST)</td>\n",
       "      <td>1.11913372.-2@multexinvestornetwork.com</td>\n",
       "      <td>pallen@enron.com</td>\n",
       "      <td>December 14, 2000 - Bear Stearns' predictions ...</td>\n",
       "      <td>[' America\\n', 'Mime-Version: 1.0\\n', 'Content...</td>\n",
       "      <td>d:\\datasets\\maildir\\\\allen-p\\all_documents\\1</td>\n",
       "      <td>allen-p</td>\n",
       "      <td>all_documents</td>\n",
       "    </tr>\n",
       "    <tr>\n",
       "      <th>1</th>\n",
       "      <td>Message-ID: &lt;21975671.1075855665520.JavaMail.e...</td>\n",
       "      <td>Wed, 13 Dec 2000 08:35:00 -0800 (PST)</td>\n",
       "      <td>messenger@ecm.bloomberg.com</td>\n",
       "      <td>Bloomberg Power Lines Report</td>\n",
       "      <td>ion: 1.0</td>\n",
       "      <td>['Content-Type: text/plain; charset=ANSI_X3.4-...</td>\n",
       "      <td>d:\\datasets\\maildir\\\\allen-p\\all_documents\\10</td>\n",
       "      <td>allen-p</td>\n",
       "      <td>all_documents</td>\n",
       "    </tr>\n",
       "    <tr>\n",
       "      <th>2</th>\n",
       "      <td>Message-ID: &lt;7452188.1075855667684.JavaMail.ev...</td>\n",
       "      <td>Mon, 9 Oct 2000 07:16:00 -0700 (PDT)</td>\n",
       "      <td>phillip.allen@enron.com</td>\n",
       "      <td>keith.holst@enron.com</td>\n",
       "      <td>Consolidated positions: Issues &amp; To Do list</td>\n",
       "      <td>['Mime-Version: 1.0\\n', 'Content-Type: text/pl...</td>\n",
       "      <td>d:\\datasets\\maildir\\\\allen-p\\all_documents\\100</td>\n",
       "      <td>allen-p</td>\n",
       "      <td>all_documents</td>\n",
       "    </tr>\n",
       "    <tr>\n",
       "      <th>3</th>\n",
       "      <td>Message-ID: &lt;23790115.1075855667708.JavaMail.e...</td>\n",
       "      <td>Mon, 9 Oct 2000 07:00:00 -0700 (PDT)</td>\n",
       "      <td>phillip.allen@enron.com</td>\n",
       "      <td>keith.holst@enron.com</td>\n",
       "      <td>Consolidated positions: Issues &amp; To Do list</td>\n",
       "      <td>['Mime-Version: 1.0\\n', 'Content-Type: text/pl...</td>\n",
       "      <td>d:\\datasets\\maildir\\\\allen-p\\all_documents\\101</td>\n",
       "      <td>allen-p</td>\n",
       "      <td>all_documents</td>\n",
       "    </tr>\n",
       "    <tr>\n",
       "      <th>5</th>\n",
       "      <td>Message-ID: &lt;14670081.1075855667751.JavaMail.e...</td>\n",
       "      <td>Thu, 5 Oct 2000 05:55:00 -0700 (PDT)</td>\n",
       "      <td>phillip.allen@enron.com</td>\n",
       "      <td>paula.harris@enron.com</td>\n",
       "      <td>Re: 2001 Margin Plan</td>\n",
       "      <td>['Mime-Version: 1.0\\n', 'Content-Type: text/pl...</td>\n",
       "      <td>d:\\datasets\\maildir\\\\allen-p\\all_documents\\103</td>\n",
       "      <td>allen-p</td>\n",
       "      <td>all_documents</td>\n",
       "    </tr>\n",
       "  </tbody>\n",
       "</table>\n",
       "</div>"
      ],
      "text/plain": [
       "                                           MessageID  \\\n",
       "0  Message-ID: <29790972.1075855665306.JavaMail.e...   \n",
       "1  Message-ID: <21975671.1075855665520.JavaMail.e...   \n",
       "2  Message-ID: <7452188.1075855667684.JavaMail.ev...   \n",
       "3  Message-ID: <23790115.1075855667708.JavaMail.e...   \n",
       "5  Message-ID: <14670081.1075855667751.JavaMail.e...   \n",
       "\n",
       "                                 DateTime  \\\n",
       "0   Wed, 13 Dec 2000 18:41:00 -0800 (PST)   \n",
       "1   Wed, 13 Dec 2000 08:35:00 -0800 (PST)   \n",
       "2    Mon, 9 Oct 2000 07:16:00 -0700 (PDT)   \n",
       "3    Mon, 9 Oct 2000 07:00:00 -0700 (PDT)   \n",
       "5    Thu, 5 Oct 2000 05:55:00 -0700 (PDT)   \n",
       "\n",
       "                                       From                             To  \\\n",
       "0   1.11913372.-2@multexinvestornetwork.com               pallen@enron.com   \n",
       "1               messenger@ecm.bloomberg.com   Bloomberg Power Lines Report   \n",
       "2                   phillip.allen@enron.com          keith.holst@enron.com   \n",
       "3                   phillip.allen@enron.com          keith.holst@enron.com   \n",
       "5                   phillip.allen@enron.com         paula.harris@enron.com   \n",
       "\n",
       "                                             Subject  \\\n",
       "0  December 14, 2000 - Bear Stearns' predictions ...   \n",
       "1                                           ion: 1.0   \n",
       "2        Consolidated positions: Issues & To Do list   \n",
       "3        Consolidated positions: Issues & To Do list   \n",
       "5                               Re: 2001 Margin Plan   \n",
       "\n",
       "                                                Body  \\\n",
       "0  [' America\\n', 'Mime-Version: 1.0\\n', 'Content...   \n",
       "1  ['Content-Type: text/plain; charset=ANSI_X3.4-...   \n",
       "2  ['Mime-Version: 1.0\\n', 'Content-Type: text/pl...   \n",
       "3  ['Mime-Version: 1.0\\n', 'Content-Type: text/pl...   \n",
       "5  ['Mime-Version: 1.0\\n', 'Content-Type: text/pl...   \n",
       "\n",
       "                                             path AccountName         Folder  \n",
       "0    d:\\datasets\\maildir\\\\allen-p\\all_documents\\1     allen-p  all_documents  \n",
       "1   d:\\datasets\\maildir\\\\allen-p\\all_documents\\10     allen-p  all_documents  \n",
       "2  d:\\datasets\\maildir\\\\allen-p\\all_documents\\100     allen-p  all_documents  \n",
       "3  d:\\datasets\\maildir\\\\allen-p\\all_documents\\101     allen-p  all_documents  \n",
       "5  d:\\datasets\\maildir\\\\allen-p\\all_documents\\103     allen-p  all_documents  "
      ]
     },
     "execution_count": 151,
     "metadata": {},
     "output_type": "execute_result"
    }
   ],
   "source": [
    "df.head()"
   ]
  },
  {
   "cell_type": "code",
   "execution_count": 161,
   "metadata": {},
   "outputs": [
    {
     "data": {
      "text/plain": [
       "array(['Message-ID: <5161987.1075855666285.JavaMail.evans@thyme>\\n',\n",
       "       'Message-ID: <9153929.1075855697853.JavaMail.evans@thyme>\\n',\n",
       "       'Message-ID: <24925859.1075855677658.JavaMail.evans@thyme>\\n',\n",
       "       'Message-ID: <33257576.1075855679568.JavaMail.evans@thyme>\\n',\n",
       "       'Message-ID: <12327474.1075855717072.JavaMail.evans@thyme>\\n',\n",
       "       'Message-ID: <10432634.1075855727436.JavaMail.evans@thyme>\\n'], dtype=object)"
      ]
     },
     "execution_count": 161,
     "metadata": {},
     "output_type": "execute_result"
    }
   ],
   "source": [
    "t['MessageID'].unique()"
   ]
  },
  {
   "cell_type": "code",
   "execution_count": 162,
   "metadata": {},
   "outputs": [
    {
     "data": {
      "text/html": [
       "<div>\n",
       "<style>\n",
       "    .dataframe thead tr:only-child th {\n",
       "        text-align: right;\n",
       "    }\n",
       "\n",
       "    .dataframe thead th {\n",
       "        text-align: left;\n",
       "    }\n",
       "\n",
       "    .dataframe tbody tr th {\n",
       "        vertical-align: top;\n",
       "    }\n",
       "</style>\n",
       "<table border=\"1\" class=\"dataframe\">\n",
       "  <thead>\n",
       "    <tr style=\"text-align: right;\">\n",
       "      <th></th>\n",
       "      <th>MessageID</th>\n",
       "      <th>DateTime</th>\n",
       "      <th>From</th>\n",
       "      <th>To</th>\n",
       "      <th>Subject</th>\n",
       "      <th>Body</th>\n",
       "      <th>path</th>\n",
       "      <th>AccountName</th>\n",
       "      <th>Folder</th>\n",
       "    </tr>\n",
       "  </thead>\n",
       "  <tbody>\n",
       "    <tr>\n",
       "      <th>284</th>\n",
       "      <td>Message-ID: &lt;5161987.1075855666285.JavaMail.ev...</td>\n",
       "      <td>Tue, 12 Dec 2000 05:27:00 -0800 (PST)</td>\n",
       "      <td>jsmith@austintx.com</td>\n",
       "      <td>phillip.k.allen@enron.com</td>\n",
       "      <td>RE: stage coach</td>\n",
       "      <td>['Mime-Version: 1.0\\n', 'Content-Type: text/pl...</td>\n",
       "      <td>d:\\datasets\\maildir\\\\allen-p\\all_documents\\36</td>\n",
       "      <td>allen-p</td>\n",
       "      <td>all_documents</td>\n",
       "    </tr>\n",
       "    <tr>\n",
       "      <th>482</th>\n",
       "      <td>Message-ID: &lt;9153929.1075855697853.JavaMail.ev...</td>\n",
       "      <td>Wed, 7 Feb 2001 06:54:00 -0800 (PST)</td>\n",
       "      <td>phillip.allen@enron.com</td>\n",
       "      <td>jsmith@austintx.com</td>\n",
       "      <td>Re: stage coach</td>\n",
       "      <td>['Mime-Version: 1.0\\n', 'Content-Type: text/pl...</td>\n",
       "      <td>d:\\datasets\\maildir\\\\allen-p\\all_documents\\538</td>\n",
       "      <td>allen-p</td>\n",
       "      <td>all_documents</td>\n",
       "    </tr>\n",
       "  </tbody>\n",
       "</table>\n",
       "</div>"
      ],
      "text/plain": [
       "                                             MessageID  \\\n",
       "284  Message-ID: <5161987.1075855666285.JavaMail.ev...   \n",
       "482  Message-ID: <9153929.1075855697853.JavaMail.ev...   \n",
       "\n",
       "                                   DateTime                      From  \\\n",
       "284   Tue, 12 Dec 2000 05:27:00 -0800 (PST)       jsmith@austintx.com   \n",
       "482    Wed, 7 Feb 2001 06:54:00 -0800 (PST)   phillip.allen@enron.com   \n",
       "\n",
       "                             To          Subject  \\\n",
       "284   phillip.k.allen@enron.com  RE: stage coach   \n",
       "482         jsmith@austintx.com  Re: stage coach   \n",
       "\n",
       "                                                  Body  \\\n",
       "284  ['Mime-Version: 1.0\\n', 'Content-Type: text/pl...   \n",
       "482  ['Mime-Version: 1.0\\n', 'Content-Type: text/pl...   \n",
       "\n",
       "                                               path AccountName         Folder  \n",
       "284   d:\\datasets\\maildir\\\\allen-p\\all_documents\\36     allen-p  all_documents  \n",
       "482  d:\\datasets\\maildir\\\\allen-p\\all_documents\\538     allen-p  all_documents  "
      ]
     },
     "execution_count": 162,
     "metadata": {},
     "output_type": "execute_result"
    }
   ],
   "source": [
    "t = df[df['Subject'].str.contains('stage coach')]"
   ]
  },
  {
   "cell_type": "code",
   "execution_count": 183,
   "metadata": {},
   "outputs": [],
   "source": [
    "df_restricted = df_restricted[(df_restricted['From'].str.contains('enron')) & (df_restricted['To'].str.contains('enron'))\n",
    "                             & (df_restricted['From'].str.contains('mailman')==False)]"
   ]
  },
  {
   "cell_type": "code",
   "execution_count": 184,
   "metadata": {},
   "outputs": [
    {
     "data": {
      "text/plain": [
       "(139837, 9)"
      ]
     },
     "execution_count": 184,
     "metadata": {},
     "output_type": "execute_result"
    }
   ],
   "source": [
    "df_restricted.shape"
   ]
  },
  {
   "cell_type": "code",
   "execution_count": 140,
   "metadata": {},
   "outputs": [
    {
     "data": {
      "text/plain": [
       "164665"
      ]
     },
     "execution_count": 140,
     "metadata": {},
     "output_type": "execute_result"
    }
   ],
   "source": [
    "len(other_subjects)"
   ]
  },
  {
   "cell_type": "code",
   "execution_count": 189,
   "metadata": {},
   "outputs": [
    {
     "data": {
      "image/png": "[encoded data removed]",
      "text/plain": [
       "<matplotlib.figure.Figure at 0x19711437be0>"
      ]
     },
     "metadata": {},
     "output_type": "display_data"
    }
   ],
   "source": [
    "plt.hist(subject_counts['MessageID'].values, bins=[i for i in range(360)], log=True)\n",
    "plt.xlabel('Number of Emails/Exact Subject')\n",
    "plt.show()"
   ]
  },
  {
   "cell_type": "code",
   "execution_count": 239,
   "metadata": {},
   "outputs": [],
   "source": [
    "df_threads = df_restricted[df_restricted['Subject'].isin(thread_subjects)].sort_values(by=['Subject', 'DateTime'])"
   ]
  },
  {
   "cell_type": "code",
   "execution_count": 358,
   "metadata": {},
   "outputs": [],
   "source": [
    "import re\n",
    "\n",
    "removelist = \".?!\"\n",
    "pattern = r'[^\\w'+removelist+']'"
   ]
  },
  {
   "cell_type": "code",
   "execution_count": 366,
   "metadata": {
    "collapsed": true
   },
   "outputs": [],
   "source": [
    "def cleanBody(body):\n",
    "    body_text = body[body.index('X-FileName:'):].split('\\\\n')[2:]\n",
    "    #Replace these lines with regex!\n",
    "    body_text = [sent for sent in body_text if sent[len(sent)-1]=='.' or sent[len(sent)-1]=='!' or sent[len(sent)-1]=='?']\n",
    "    \n",
    "    body_text = [sent.replace('\\\\t', '') for sent in body_text]\n",
    "\n",
    "    body_text = [re.sub(pattern, ' ', sent) for sent in body_text]\n",
    "    \n",
    "    return ' '.join(body_text)"
   ]
  },
  {
   "cell_type": "code",
   "execution_count": 367,
   "metadata": {},
   "outputs": [],
   "source": [
    "df_threads['CleanBody'] = df_threads['Body'].apply(cleanBody)"
   ]
  },
  {
   "cell_type": "code",
   "execution_count": 368,
   "metadata": {},
   "outputs": [],
   "source": [
    "df_threads = df_threads[df_threads.duplicated(subset=['CleanBody'])==False]"
   ]
  },
  {
   "cell_type": "code",
   "execution_count": 369,
   "metadata": {
    "collapsed": true
   },
   "outputs": [],
   "source": [
    "df_threads = df_threads[df_threads['To'].str.contains('all.houston')==False]"
   ]
  },
  {
   "cell_type": "code",
   "execution_count": 370,
   "metadata": {
    "collapsed": true
   },
   "outputs": [],
   "source": [
    "subject_counts = df_threads.groupby('Subject')['MessageID'].count().reset_index()\n",
    "subject_counts = subject_counts[subject_counts['Subject'].str.contains('@')==False]\n",
    "thread_subjects = subject_counts[subject_counts['MessageID']!=1]['Subject'].values"
   ]
  },
  {
   "cell_type": "code",
   "execution_count": 371,
   "metadata": {},
   "outputs": [
    {
     "data": {
      "text/plain": [
       "array([' Access to UBSWenergy Production Environment',\n",
       "       '\"Baker & McKenzie E-Law Alert\"',\n",
       "       '\"ECT Europe Accounting\" as ENA hedge counterparty', ...,\n",
       "       \"what's up?\", 'work schedule', 'www.U2.com update'], dtype=object)"
      ]
     },
     "execution_count": 371,
     "metadata": {},
     "output_type": "execute_result"
    }
   ],
   "source": [
    "thread_subjects"
   ]
  },
  {
   "cell_type": "code",
   "execution_count": 375,
   "metadata": {},
   "outputs": [
    {
     "data": {
      "text/plain": [
       "array([ '    IMP and FAS 106 will  be carried at FA A  Potential offsets to yr to yr increases are yet to be  determined.',\n",
       "       '    Attached is the file with revisions that we discussed today.  Please let me know if you have any questions.'], dtype=object)"
      ]
     },
     "execution_count": 375,
     "metadata": {},
     "output_type": "execute_result"
    }
   ],
   "source": [
    "df_threads[df_threads['Subject'] == thread_subjects[61]]['CleanBody'].values"
   ]
  }
 ],
 "metadata": {
  "kernelspec": {
   "display_name": "Python 3",
   "language": "python",
   "name": "python3"
  },
  "language_info": {
   "codemirror_mode": {
    "name": "ipython",
    "version": 3
   },
   "file_extension": ".py",
   "mimetype": "text/x-python",
   "name": "python",
   "nbconvert_exporter": "python",
   "pygments_lexer": "ipython3",
   "version": "3.6.1"
  }
 },
 "nbformat": 4,
 "nbformat_minor": 2
}
