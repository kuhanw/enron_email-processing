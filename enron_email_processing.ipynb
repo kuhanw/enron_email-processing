{
 "cells": [
  {
   "cell_type": "code",
   "execution_count": 110,
   "metadata": {
    "collapsed": true
   },
   "outputs": [],
   "source": [
    "import pandas as pd"
   ]
  },
  {
   "cell_type": "code",
   "execution_count": 111,
   "metadata": {},
   "outputs": [],
   "source": [
    "df = pd.read_csv('all_results.csv')"
   ]
  },
  {
   "cell_type": "code",
   "execution_count": 112,
   "metadata": {},
   "outputs": [
    {
     "data": {
      "text/plain": [
       "(517401, 7)"
      ]
     },
     "execution_count": 112,
     "metadata": {},
     "output_type": "execute_result"
    }
   ],
   "source": [
    "df.shape"
   ]
  },
  {
   "cell_type": "code",
   "execution_count": 113,
   "metadata": {},
   "outputs": [],
   "source": [
    "df.rename(columns={'0':'MessageID', '1':'DateTime', '2':'From', '3':'To', '4':'Subject', '5':'Body'}, inplace=True)"
   ]
  },
  {
   "cell_type": "code",
   "execution_count": 114,
   "metadata": {},
   "outputs": [],
   "source": [
    "df['DateTime'] = df['DateTime'].apply(lambda x: x[5:-1])"
   ]
  },
  {
   "cell_type": "code",
   "execution_count": 115,
   "metadata": {},
   "outputs": [],
   "source": [
    "df['From'] = df['From'].apply(lambda x: x.split(':')[1:][0][:-1])\n",
    "df['To'] = df['To'].apply(lambda x: x.split(':')[1:][0][:-1])"
   ]
  },
  {
   "cell_type": "code",
   "execution_count": null,
   "metadata": {
    "collapsed": true
   },
   "outputs": [],
   "source": [
    "df['MessageID'] = df['MessageID'].apply(lambda x: x.split(':')[1:][0][:-1])"
   ]
  },
  {
   "cell_type": "code",
   "execution_count": 124,
   "metadata": {},
   "outputs": [],
   "source": [
    "df['Subject'] = df['Subject'].apply(lambda x: x[9:-1])"
   ]
  },
  {
   "cell_type": "code",
   "execution_count": 125,
   "metadata": {
    "collapsed": true
   },
   "outputs": [],
   "source": [
    "df['AccountName'] = df['path'].apply(lambda x: x.split('\\\\')[4])\n",
    "df['Folder'] = df['path'].apply(lambda x: x.split('\\\\')[5])"
   ]
  },
  {
   "cell_type": "code",
   "execution_count": 126,
   "metadata": {},
   "outputs": [],
   "source": [
    "df.to_csv('all_results_process_stage_1.csv', index=False, encoding='utf-8')"
   ]
  },
  {
   "cell_type": "code",
   "execution_count": 128,
   "metadata": {},
   "outputs": [
    {
     "data": {
      "text/plain": [
       "'[\\' America\\\\n\\', \\'Mime-Version: 1.0\\\\n\\', \\'Content-Type: text/plain; charset=us-ascii\\\\n\\', \\'Content-Transfer-Encoding: 7bit\\\\n\\', \\'X-From: Multex Investor <1.11913372.-2@multexinvestornetwork.com>\\\\n\\', \\'X-To: <pallen@enron.com>\\\\n\\', \\'X-cc: \\\\n\\', \\'X-bcc: \\\\n\\', \\'X-Folder: \\\\\\\\Phillip_Allen_Dec2000\\\\\\\\Notes Folders\\\\\\\\All documents\\\\n\\', \\'X-Origin: Allen-P\\\\n\\', \\'X-FileName: pallen.nsf\\\\n\\', \\'\\\\n\\', \"In today\\'s Daily Update you\\'ll find free reports on\\\\n\", \\'America Online (AOL), Divine Interventures (DVIN),\\\\n\\', \\'and 3M (MMM); reports on the broadband space, Latin\\\\n\\', \\'American telecom, and more.\\\\n\\', \\'\\\\n\\', \"For free research, editor\\'s picks, and more come to the Daily Investor:\\\\n\", \\'http://www.multexinvestor.com/AF004627/magazinecover.asp?promo=unl&d=20001214#\\\\n\\', \\'investor\\\\n\\', \\'\\\\n\\', \\'***************************************************************\\\\n\\', \\'You are receiving this mail because you have registered for\\\\n\\', \\'Multex Investor. To unsubscribe, see bottom of this message.\\\\n\\', \\'***************************************************************\\\\n\\', \\'\\\\n\\', \\'======================== Sponsored by =========================\\\\n\\', \\'Would you own just the energy stocks in the S&P 500?\\\\n\\', \\'Select Sector SPDRs divides the S&P 500 into nine sector index funds.\\\\n\\', \\'Pick and choose just the pieces of the S&P 500 you like best.\\\\n\\', \\'http://www.spdrindex.com\\\\n\\', \\'===============================================================\\\\n\\', \\'\\\\n\\', \"Featured in today\\'s edition of the Daily Update:\\\\n\", \\'\\\\n\\', \"1. SPECIAL ANNOUNCEMENT: Treat yourself to Multex Investor\\'s NEW Personal\\\\n\", \\'Finance Channel to take advantage of top-notch content and tools  FREE.\\\\n\\', \\'\\\\n\\', \\'2. DAILY FREE SPONSOR REPORT: Robertson Stephens maintains a \"buy\" rating\\\\n\\', \\'on Divine Interventures (DVIN).\\\\n\\', \\'\\\\n\\', \\'3. FREE RESEARCH REPORT: Jefferies & Co. rates America Online (AOL) a\\\\n\\', \\'\"buy,\" saying projected growth remains in place.\\\\n\\', \\'\\\\n\\', \"4. ASK THE ANALYST: Morgan Stanley Dean Witter\\'s Lew Smith in the Analyst\\\\n\", \\'Corner\\\\n\\', \\'\\\\n\\', \"5. HOT REPORT: Oscar Gruss & Son\\'s most recent issue of its Broadband\\\\n\", \\'Brief reports the latest developments in the broadband space.\\\\n\\', \\'\\\\n\\', \"6. EDITOR\\'S PICK: Bear Stearns measures the impact of broadband and the\\\\n\", \\'Internet on telecom in Latin America.\\\\n\\', \\'\\\\n\\', \"7. FREE STOCK SNAPSHOT: The current analysts\\' consensus rates 3M (MMM), a\\\\n\", \\'\"buy/hold.\"\\\\n\\', \\'\\\\n\\', \\'8. JOIN THE MARKETBUZZ: where top financial industry professionals answer\\\\n\\', \"your questions and offer insights every market day from noon \\'til 2:00\\\\n\", \\'p.m. ET.\\\\n\\', \\'\\\\n\\', \\'9. TRANSCRIPTS FROM WALL STREET: Ash Rajan, senior vice president and\\\\n\\', \\'market analyst with Prudential Securities, answers questions about the\\\\n\\', \\'market.\\\\n\\', \\'\\\\n\\', \\'======================== Sponsored by =========================\\\\n\\', \\'Profit From AAII\\\\\\'s \"Cash Rich\" Stock Screen - 46% YTD Return\\\\n\\', \\'\\\\n\\', \\'With so much market volatility, how did AAII\\\\\\'s \"Cash Rich\"\\\\n\\', \\'Stock Screen achieve such stellar returns?  Find the answer by\\\\n\\', \\'taking a free trial membership from the American Association\\\\n\\', \\'of Individual Investors and using our FREE Stock Screen service at:\\\\n\\', \\'http://subs.aaii.com/c/go/XAAI/MTEX1B-aaiitU1?s=S900\\\\n\\', \\'===============================================================\\\\n\\', \\'\\\\n\\', \\'1. NEW ON MULTEX INVESTOR\\\\n\\', \\'Take charge of your personal finances\\\\n\\', \\'\\\\n\\', \\'Do you have endless hours of free time to keep your financial house in\\\\n\\', \"order? We didn\\'t think so. That\\'s why you need to treat yourself to Multex\\\\n\", \"Investor\\'s NEW Personal Finance Channel to take advantage of top-notch\\\\n\", \\'content and tools  FREE.\\\\n\\', \\'Click here for more information.\\\\n\\', \\'http://www.multexpf.com?mktg=sgpftx4&promo=unl&t=10&d=20001214\\\\n\\', \\'\\\\n\\', \\'\\\\n\\', \\'2. DAILY FREE SPONSOR REPORT\\\\n\\', \\'Divine Interventures (DVIN)\\\\n\\', \\'\\\\n\\', \\'Robertson Stephens maintains a \"buy\" rating on Divine Interventures, an\\\\n\\', \\'incubator focused on infrastructure services and business-to-business\\\\n\\', \"(B2B) exchanges. Register for Robertson Stephens\\' free-research trial to\\\\n\", \\'access this report.\\\\n\\', \\'Click here.\\\\n\\', \\'http://www.multexinvestor.com/Download.asp?docid=5018549&sid=9&promo=unl&t=12&\\\\n\\', \\'d=20001214\\\\n\\', \\'\\\\n\\', \\'\\\\n\\', \\'3. FREE RESEARCH REPORT\\\\n\\', \"Hold \\'er steady -- America Online (AOL)\\\\n\", \\'\\\\n\\', \"AOL\\'s projected growth and proposed merger with Time Warner (TWX) both\\\\n\", \\'remain in place, says Jefferies & Co., which maintains a \"buy\" rating on\\\\n\\', \\'AOL. In the report, which is free for a limited time, analysts are\\\\n\\', \\'confident the deal will close soon.\\\\n\\', \\'Click here.\\\\n\\', \\'http://www.multexinvestor.com/AF004627/magazinecover.asp?promo=unl&t=11&d=2000\\\\n\\', \\'1214\\\\n\\', \\'\\\\n\\', \\'\\\\n\\', \\'4. TODAY IN THE ANALYST CORNER\\\\n\\', \\'Following market trends\\\\n\\', \\'\\\\n\\', \"Morgan Stanley Dean Witter\\'s Lew Smith sees strong underlying trends\\\\n\", \\'guiding future market performance. What trends does he point to, and what\\\\n\\', \\'stocks and sectors does he see benefiting from his premise?\\\\n\\', \\'\\\\n\\', \"Here is your opportunity to gain free access to Morgan Stanley\\'s research.\\\\n\", \\'Simply register and submit a question below. You will then have a free\\\\n\\', \"trial membership to this top Wall Street firms\\' research!  Lew Smith will\\\\n\", \\'be in the Analyst Corner only until 5 p.m. ET Thurs., Dec. 14, so be sure\\\\n\\', \\'to ask your question now.\\\\n\\', \\'Ask the analyst.\\\\n\\', \\'http://www.multexinvestor.com/ACHome.asp?promo=unl&t=1&d=20001214\\\\n\\', \\'\\\\n\\', \\'\\\\n\\', \"5. WHAT\\'S HOT? RESEARCH REPORTS FROM MULTEX INVESTOR\\'S HOT LIST\\\\n\", \\'Breaking the bottleneck -- An update on the broadband space\\\\n\\', \\'\\\\n\\', \"Oscar Gruss & Son\\'s most recent issue of its Broadband Brief reports the\\\\n\", \\'latest developments in the broadband space, with coverage of Adaptive\\\\n\\', \\'Broadband (ADAP), Broadcom (BRCM), Efficient Networks (EFNT), and others\\\\n\\', \\'(report for purchase - $25).\\\\n\\', \\'Click here.\\\\n\\', \\'http://www.multexinvestor.com/Download.asp?docid=5149041&promo=unl&t=4&d=20001\\\\n\\', \\'214\\\\n\\', \\'\\\\n\\', \\'======================== Sponsored by =========================\\\\n\\', \\'Get Red Herring insight into hot IPOs, investing strategies,\\\\n\\', \\'stocks to watch, future technologies, and more. FREE\\\\n\\', \\'E-newsletters from Redherring.com provide more answers,\\\\n\\', \\'analysis and opinion to help you make more strategic\\\\n\\', \\'investing decisions. Subscribe today\\\\n\\', \\'http://www.redherring.com/jump/om/i/multex/email2/subscribe/47.html\\\\n\\', \\'===============================================================\\\\n\\', \\'\\\\n\\', \"6. EDITOR\\'S PICK: CURRENT RESEARCH FROM THE CUTTING EDGE\\\\n\", \"Que pasa? -- Predicting telecom\\'s future in Latin America\\\\n\", \\'\\\\n\\', \\'Bear Stearns measures the impact of broadband and the Internet on telecom\\\\n\\', \\'in Latin America, saying incumbent local-exchange carriers (ILECs) are\\\\n\\', \\'ideally positioned to benefit from the growth of Internet and data\\\\n\\', \\'services (report for purchase - $150).\\\\n\\', \\'Click here.\\\\n\\', \\'http://www.multexinvestor.com/Download.asp?docid=5140995&promo=unl&t=8&d=20001\\\\n\\', \\'214\\\\n\\', \\'\\\\n\\', \\'\\\\n\\', \\'7. FREE STOCK SNAPSHOT\\\\n\\', \\'3M (MMM)\\\\n\\', \\'\\\\n\\', \\'The current analysts\\\\\\' consensus rates 3M, a \"buy/hold.\" Analysts expect\\\\n\\', \\'the industrial product manufacturer to earn $4.76 per share in 2000 and\\\\n\\', \\'$5.26 per share in 2001.\\\\n\\', \\'Click here.\\\\n\\', \\'http://www.multexinvestor.com/Download.asp?docid=1346414&promo=unl&t=3&d=20001\\\\n\\', \\'214\\\\n\\', \\'\\\\n\\', \\'\\\\n\\', \\'8. JOIN THE MARKETBUZZ!\\\\n\\', \\'Check out SageOnline\\\\n\\', \\'\\\\n\\', \\'where top financial industry professionals answer your questions and offer\\\\n\\', \"insights every market day from noon \\'til 2:00 p.m. ET.\\\\n\", \\'Click here.\\\\n\\', \\'http://multexinvestor.sageonline.com/page2.asp?id=9512&ps=1&s=2&mktg=evn&promo\\\\n\\', \\'=unl&t=24&d=20001214\\\\n\\', \\'\\\\n\\', \\'\\\\n\\', \"9. TRANSCRIPTS FROM WALL STREET\\'S GURUS\\\\n\", \"Prudential Securities\\' Ash Rajan\\\\n\", \\'\\\\n\\', \\'In this SageOnline transcript from a chat that took place earlier this\\\\n\\', \\'week, Ash Rajan, senior vice president and market analyst with Prudential\\\\n\\', \\'Securities, answers questions about tech, retail, finance, and the outlook\\\\n\\', \\'for the general market.\\\\n\\', \\'Click here.\\\\n\\', \\'http://multexinvestor.sageonline.com/transcript.asp?id=10403&ps=1&s=8&mktg=trn\\\\n\\', \\'&promo=unl&t=13&d=20001214\\\\n\\', \\'\\\\n\\', \\'===================================================================\\\\n\\', \\'Please send your questions and comments to mailto:investor.help@multex.com\\\\n\\', \\'\\\\n\\', \"If you\\'d like to learn more about Multex Investor, please visit:\\\\n\", \\'http://www.multexinvestor.com/welcome.asp\\\\n\\', \\'\\\\n\\', \"If you can\\'t remember your password and/or your user name, click here:\\\\n\", \\'http://www.multexinvestor.com/lostinfo.asp\\\\n\\', \\'\\\\n\\', \\'If you want to update your email address, please click on the url below:\\\\n\\', \\'http://www.multexinvestor.com/edituinfo.asp\\\\n\\', \\'===================================================================\\\\n\\', \\'To remove yourself from the mailing list for the Daily Update, please\\\\n\\', \\'REPLY to THIS email message with the word UNSUBSCRIBE in the subject\\\\n\\', \\'line. To remove yourself from all Multex Investor mailings, including\\\\n\\', \\'the Daily Update and The Internet Analyst, please respond with the\\\\n\\', \\'words NO EMAIL in the subject line.\\\\n\\', \\'\\\\n\\', \\'You may also unsubscribe on the account update page at:\\\\n\\', \\'http://www.multexinvestor.com/edituinfo.asp\\\\n\\', \\'===================================================================\\\\n\\', \\'Please email advertising inquiries to us at mailto:advertise@multex.com.\\\\n\\', \\'\\\\n\\', \\'For information on becoming an affiliate click here: \\\\n\\', \\'http://www.multexinvestor.com/Affiliates/home.asp?promo=unl\\\\n\\', \\'\\\\n\\', \\'Be sure to check out one of our other newsletters, The Internet Analyst by\\\\n\\', \\'Multex.com. The Internet Analyst informs, educates, and entertains you with\\\\n\\', \\'usable investment data, ideas, experts, and info about the Internet industry.\\\\n\\', \"To see this week\\'s issue, click here: http://www.theinternetanalyst.com\\\\n\", \\'\\\\n\\', \\'If you are not 100% satisfied with a purchase you make on Multex\\\\n\\', \\'Investor, we will refund your money.\\']'"
      ]
     },
     "execution_count": 128,
     "metadata": {},
     "output_type": "execute_result"
    }
   ],
   "source": [
    "df['Body'].values[0]"
   ]
  },
  {
   "cell_type": "code",
   "execution_count": 94,
   "metadata": {},
   "outputs": [
    {
     "data": {
      "text/plain": [
       "['d:', 'datasets', 'maildir', '', 'allen-p', 'all_documents', '1']"
      ]
     },
     "execution_count": 94,
     "metadata": {},
     "output_type": "execute_result"
    }
   ],
   "source": [
    "df['path'].values[0].split('\\\\')"
   ]
  },
  {
   "cell_type": "code",
   "execution_count": null,
   "metadata": {
    "collapsed": true
   },
   "outputs": [],
   "source": []
  }
 ],
 "metadata": {
  "kernelspec": {
   "display_name": "Python 3",
   "language": "python",
   "name": "python3"
  },
  "language_info": {
   "codemirror_mode": {
    "name": "ipython",
    "version": 3
   },
   "file_extension": ".py",
   "mimetype": "text/x-python",
   "name": "python",
   "nbconvert_exporter": "python",
   "pygments_lexer": "ipython3",
   "version": "3.6.1"
  }
 },
 "nbformat": 4,
 "nbformat_minor": 2
}
