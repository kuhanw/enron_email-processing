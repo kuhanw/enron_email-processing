{
 "cells": [
  {
   "cell_type": "code",
   "execution_count": 2,
   "metadata": {
    "collapsed": true
   },
   "outputs": [],
   "source": [
    "import pandas as pd\n",
    "\n",
    "import difflib\n",
    "from joblib import Parallel, delayed\n",
    "\n",
    "import re\n",
    "\n",
    "removelist = \".?!\"\n",
    "pattern = r'[^\\w'+removelist+']'\n",
    "\n",
    "def findRootSubject(subject_title):\n",
    "    subject_root = subject_title.split(':')[1].strip()\n",
    "    root_subjects = df_other_subjects[df_other_subjects['Subject'].str.contains(subject_root)]['Subject'].unique()\n",
    "    \n",
    "    matched_subjects = \\\n",
    "                [subject for subject in root_subjects if difflib.SequenceMatcher(None, a=subject, b=subject_root).ratio()>0.95]\n",
    "    \n",
    "    return [matched_subjects, subject_title]"
   ]
  },
  {
   "cell_type": "code",
   "execution_count": 3,
   "metadata": {},
   "outputs": [],
   "source": [
    "df_restricted = pd.read_csv('all_results_process_stage_1a.csv', encoding='utf-8')\n",
    "\n",
    "#Dedupe\n",
    "df_restricted = df_restricted[df_restricted.duplicated(subset=['DateTime', 'From', 'To', 'Subject']) == False]\n",
    "\n",
    "reply_subjects = df_restricted[(df_restricted['Subject'].str.contains('RE:')) | \\\n",
    "              (df_restricted['Subject'].str.contains('Re:')) | \\\n",
    "              (df_restricted['Subject'].str.contains('re:'))]['Subject'].values\n",
    "\n",
    "fwd_subjects = df_restricted[(df_restricted['Subject'].str.contains('FW:')) | \\\n",
    "              (df_restricted['Subject'].str.contains('Fw:')) | \\\n",
    "              (df_restricted['Subject'].str.contains('fw:'))]['Subject'].values\n",
    "\n",
    "thread_names = list(reply_subjects) + list(fwd_subjects)"
   ]
  },
  {
   "cell_type": "code",
   "execution_count": 4,
   "metadata": {},
   "outputs": [
    {
     "data": {
      "text/plain": [
       "86232"
      ]
     },
     "execution_count": 4,
     "metadata": {},
     "output_type": "execute_result"
    }
   ],
   "source": [
    "len(thread_names)"
   ]
  },
  {
   "cell_type": "code",
   "execution_count": null,
   "metadata": {
    "collapsed": true
   },
   "outputs": [],
   "source": [
    "if __name__ == '__main__':\n",
    "\n",
    "\n",
    "    df_restricted = pd.read_csv('all_results_process_stage_1a.csv', encoding='utf-8')\n",
    "\n",
    "    #Dedupe\n",
    "    df_restricted = df_restricted[df_restricted.duplicated(subset=['DateTime', 'From', 'To', 'Subject']) == False]\n",
    "\n",
    "    reply_subjects = df_restricted[(df_restricted['Subject'].str.contains('RE:')) | \\\n",
    "                  (df_restricted['Subject'].str.contains('Re:')) | \\\n",
    "                  (df_restricted['Subject'].str.contains('re:'))]['Subject'].values\n",
    "\n",
    "    fwd_subjects = df_restricted[(df_restricted['Subject'].str.contains('FW:')) | \\\n",
    "                  (df_restricted['Subject'].str.contains('Fw:')) | \\\n",
    "                  (df_restricted['Subject'].str.contains('fw:'))]['Subject'].values\n",
    "\n",
    "    thread_names = list(reply_subjects) + list(fwd_subjects)\n",
    "\n",
    "    df_other_subjects = df_restricted[df_restricted['Subject'].isin(thread_names) == False]\n",
    "\n",
    "    other_subjects = df_other_subjects['Subject'].unique()\n",
    "\n",
    "    root_subjects = Parallel(n_jobs=-1, verbose=8)(delayed(findRootSubject)(subject) for subject in reply_subjects[:100])"
   ]
  }
 ],
 "metadata": {
  "kernelspec": {
   "display_name": "Python 3",
   "language": "python",
   "name": "python3"
  },
  "language_info": {
   "codemirror_mode": {
    "name": "ipython",
    "version": 3
   },
   "file_extension": ".py",
   "mimetype": "text/x-python",
   "name": "python",
   "nbconvert_exporter": "python",
   "pygments_lexer": "ipython3",
   "version": "3.6.1"
  }
 },
 "nbformat": 4,
 "nbformat_minor": 2
}
